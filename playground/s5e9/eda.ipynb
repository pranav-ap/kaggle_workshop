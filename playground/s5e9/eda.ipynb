{
 "cells": [
  {
   "cell_type": "code",
   "id": "initial_id",
   "metadata": {
    "collapsed": true,
    "ExecuteTime": {
     "end_time": "2025-09-14T15:57:08.325936Z",
     "start_time": "2025-09-14T15:57:00.359022Z"
    }
   },
   "source": [
    "%load_ext autoreload\n",
    "%autoreload 2"
   ],
   "outputs": [],
   "execution_count": 1
  },
  {
   "metadata": {},
   "cell_type": "markdown",
   "source": "# Predicting the Beats-per-Minute of Songs",
   "id": "c8d118d655d8e77c"
  },
  {
   "metadata": {
    "ExecuteTime": {
     "end_time": "2025-09-14T15:57:08.664260Z",
     "start_time": "2025-09-14T15:57:08.352950Z"
    }
   },
   "cell_type": "code",
   "source": [
    "import numpy as np\n",
    "import polars as pl\n",
    "\n",
    "# visualization\n",
    "import matplotlib as mpl\n",
    "import matplotlib.pyplot as plt\n",
    "plt.style.use('seaborn-v0_8-whitegrid')\n",
    "%matplotlib inline\n",
    "import seaborn as sns\n",
    "sns.set_theme(style=\"darkgrid\")\n",
    "\n",
    "import warnings\n",
    "warnings.filterwarnings('ignore')"
   ],
   "id": "af928a07806a19a6",
   "outputs": [],
   "execution_count": 2
  },
  {
   "metadata": {},
   "cell_type": "markdown",
   "source": "# Load Train Dataset",
   "id": "e517f1f0c1f0f18f"
  },
  {
   "metadata": {
    "ExecuteTime": {
     "end_time": "2025-09-14T15:57:08.844230Z",
     "start_time": "2025-09-14T15:57:08.680379Z"
    }
   },
   "cell_type": "code",
   "source": [
    "train_data = pl.read_csv('../../data/playground-series-s5e9/train.csv')\n",
    "train_data.head(2)"
   ],
   "id": "500ea695a54f2148",
   "outputs": [
    {
     "data": {
      "text/plain": [
       "shape: (2, 11)\n",
       "┌─────┬─────────────┬────────────┬────────────┬───┬───────────┬────────────┬──────────┬────────────┐\n",
       "│ id  ┆ RhythmScore ┆ AudioLoudn ┆ VocalConte ┆ … ┆ MoodScore ┆ TrackDurat ┆ Energy   ┆ BeatsPerMi │\n",
       "│ --- ┆ ---         ┆ ess        ┆ nt         ┆   ┆ ---       ┆ ionMs      ┆ ---      ┆ nute       │\n",
       "│ i64 ┆ f64         ┆ ---        ┆ ---        ┆   ┆ f64       ┆ ---        ┆ f64      ┆ ---        │\n",
       "│     ┆             ┆ f64        ┆ f64        ┆   ┆           ┆ f64        ┆          ┆ f64        │\n",
       "╞═════╪═════════════╪════════════╪════════════╪═══╪═══════════╪════════════╪══════════╪════════════╡\n",
       "│ 0   ┆ 0.60361     ┆ -7.636942  ┆ 0.0235     ┆ … ┆ 0.409866  ┆ 290715.645 ┆ 0.826267 ┆ 147.5302   │\n",
       "│ 1   ┆ 0.639451    ┆ -16.267598 ┆ 0.07152    ┆ … ┆ 0.65101   ┆ 164519.517 ┆ 0.1454   ┆ 136.15963  │\n",
       "│     ┆             ┆            ┆            ┆   ┆           ┆ 4          ┆          ┆            │\n",
       "└─────┴─────────────┴────────────┴────────────┴───┴───────────┴────────────┴──────────┴────────────┘"
      ],
      "text/html": [
       "<div><style>\n",
       ".dataframe > thead > tr,\n",
       ".dataframe > tbody > tr {\n",
       "  text-align: right;\n",
       "  white-space: pre-wrap;\n",
       "}\n",
       "</style>\n",
       "<small>shape: (2, 11)</small><table border=\"1\" class=\"dataframe\"><thead><tr><th>id</th><th>RhythmScore</th><th>AudioLoudness</th><th>VocalContent</th><th>AcousticQuality</th><th>InstrumentalScore</th><th>LivePerformanceLikelihood</th><th>MoodScore</th><th>TrackDurationMs</th><th>Energy</th><th>BeatsPerMinute</th></tr><tr><td>i64</td><td>f64</td><td>f64</td><td>f64</td><td>f64</td><td>f64</td><td>f64</td><td>f64</td><td>f64</td><td>f64</td><td>f64</td></tr></thead><tbody><tr><td>0</td><td>0.60361</td><td>-7.636942</td><td>0.0235</td><td>0.000005</td><td>0.000001</td><td>0.051385</td><td>0.409866</td><td>290715.645</td><td>0.826267</td><td>147.5302</td></tr><tr><td>1</td><td>0.639451</td><td>-16.267598</td><td>0.07152</td><td>0.444929</td><td>0.349414</td><td>0.170522</td><td>0.65101</td><td>164519.5174</td><td>0.1454</td><td>136.15963</td></tr></tbody></table></div>"
      ]
     },
     "execution_count": 3,
     "metadata": {},
     "output_type": "execute_result"
    }
   ],
   "execution_count": 3
  },
  {
   "metadata": {},
   "cell_type": "markdown",
   "source": "# Inspect",
   "id": "e35f8984ebc9a384"
  },
  {
   "metadata": {
    "ExecuteTime": {
     "end_time": "2025-09-14T15:57:08.954304Z",
     "start_time": "2025-09-14T15:57:08.872858Z"
    }
   },
   "cell_type": "code",
   "source": "train_data.shape",
   "id": "119c75b93b0a96b5",
   "outputs": [
    {
     "data": {
      "text/plain": [
       "(524164, 11)"
      ]
     },
     "execution_count": 4,
     "metadata": {},
     "output_type": "execute_result"
    }
   ],
   "execution_count": 4
  },
  {
   "metadata": {
    "ExecuteTime": {
     "end_time": "2025-09-14T15:57:09.066693Z",
     "start_time": "2025-09-14T15:57:09.015095Z"
    }
   },
   "cell_type": "code",
   "source": "train_data.glimpse(max_items_per_column=2)",
   "id": "8cb4045538fcf7c3",
   "outputs": [
    {
     "name": "stdout",
     "output_type": "stream",
     "text": [
      "Rows: 524164\n",
      "Columns: 11\n",
      "$ id                        <i64> 0, 1\n",
      "$ RhythmScore               <f64> 0.603609719, 0.639451219\n",
      "$ AudioLoudness             <f64> -7.636942085, -16.26759827\n",
      "$ VocalContent              <f64> 0.0235, 0.071519503\n",
      "$ AcousticQuality           <f64> 5.36e-06, 0.444929072\n",
      "$ InstrumentalScore         <f64> 1.07e-06, 0.349414237\n",
      "$ LivePerformanceLikelihood <f64> 0.051385456, 0.170522335\n",
      "$ MoodScore                 <f64> 0.409866259, 0.651010252\n",
      "$ TrackDurationMs           <f64> 290715.645, 164519.5174\n",
      "$ Energy                    <f64> 0.826266667, 0.1454\n",
      "$ BeatsPerMinute            <f64> 147.5302, 136.15963\n",
      "\n"
     ]
    }
   ],
   "execution_count": 5
  },
  {
   "metadata": {
    "ExecuteTime": {
     "end_time": "2025-09-14T15:57:09.511723Z",
     "start_time": "2025-09-14T15:57:09.420727Z"
    }
   },
   "cell_type": "code",
   "source": "train_data.schema",
   "id": "103bce44ce4edb76",
   "outputs": [
    {
     "data": {
      "text/plain": [
       "Schema([('id', Int64),\n",
       "        ('RhythmScore', Float64),\n",
       "        ('AudioLoudness', Float64),\n",
       "        ('VocalContent', Float64),\n",
       "        ('AcousticQuality', Float64),\n",
       "        ('InstrumentalScore', Float64),\n",
       "        ('LivePerformanceLikelihood', Float64),\n",
       "        ('MoodScore', Float64),\n",
       "        ('TrackDurationMs', Float64),\n",
       "        ('Energy', Float64),\n",
       "        ('BeatsPerMinute', Float64)])"
      ]
     },
     "execution_count": 6,
     "metadata": {},
     "output_type": "execute_result"
    }
   ],
   "execution_count": 6
  },
  {
   "metadata": {},
   "cell_type": "markdown",
   "source": "# Plot Target",
   "id": "40d6ad0ffcbfae4c"
  },
  {
   "metadata": {
    "ExecuteTime": {
     "end_time": "2025-09-14T15:59:29.369391Z",
     "start_time": "2025-09-14T15:59:17.075647Z"
    }
   },
   "cell_type": "code",
   "source": [
    "def plot_beats_per_minute(df):\n",
    "    bpm = df[\"BeatsPerMinute\"]\n",
    "\n",
    "    fig, axes = plt.subplots(1, 2, figsize=(12, 5))\n",
    "\n",
    "    # Histogram + KDE\n",
    "    sns.histplot(bpm, bins=30, kde=True, ax=axes[0], color=\"skyblue\")\n",
    "    axes[0].set_title(\"Distribution of Beats Per Minute\")\n",
    "    axes[0].set_xlabel(\"Beats Per Minute (BPM)\")\n",
    "    axes[0].set_ylabel(\"Count\")\n",
    "\n",
    "    # Boxplot\n",
    "    sns.boxplot(x=bpm, ax=axes[1], color=\"lightcoral\")\n",
    "    axes[1].set_title(\"Boxplot of Beats Per Minute\")\n",
    "    axes[1].set_xlabel(\"Beats Per Minute (BPM)\")\n",
    "\n",
    "    plt.tight_layout()\n",
    "    plt.show()\n",
    "\n",
    "plot_beats_per_minute(train_data)"
   ],
   "id": "a88a8d4e5dea7e78",
   "outputs": [
    {
     "data": {
      "text/plain": [
       "<Figure size 1200x500 with 2 Axes>"
      ],
      "image/png": "[encoded data removed]"
     },
     "metadata": {},
     "output_type": "display_data",
     "jetTransient": {
      "display_id": null
     }
    }
   ],
   "execution_count": 7
  },
  {
   "metadata": {},
   "cell_type": "markdown",
   "source": "# Drop Columns",
   "id": "b4f5d4ed9572149c"
  },
  {
   "metadata": {
    "ExecuteTime": {
     "end_time": "2025-09-14T15:59:29.485981Z",
     "start_time": "2025-09-14T15:59:29.389964Z"
    }
   },
   "cell_type": "code",
   "source": [
    "columns_to_drop = ['id']\n",
    "\n",
    "train_data = train_data.drop(columns_to_drop)\n",
    "train_data.glimpse(max_items_per_column=2)"
   ],
   "id": "f14b4f35a97378e3",
   "outputs": [
    {
     "name": "stdout",
     "output_type": "stream",
     "text": [
      "Rows: 524164\n",
      "Columns: 10\n",
      "$ RhythmScore               <f64> 0.603609719, 0.639451219\n",
      "$ AudioLoudness             <f64> -7.636942085, -16.26759827\n",
      "$ VocalContent              <f64> 0.0235, 0.071519503\n",
      "$ AcousticQuality           <f64> 5.36e-06, 0.444929072\n",
      "$ InstrumentalScore         <f64> 1.07e-06, 0.349414237\n",
      "$ LivePerformanceLikelihood <f64> 0.051385456, 0.170522335\n",
      "$ MoodScore                 <f64> 0.409866259, 0.651010252\n",
      "$ TrackDurationMs           <f64> 290715.645, 164519.5174\n",
      "$ Energy                    <f64> 0.826266667, 0.1454\n",
      "$ BeatsPerMinute            <f64> 147.5302, 136.15963\n",
      "\n"
     ]
    }
   ],
   "execution_count": 8
  },
  {
   "metadata": {},
   "cell_type": "markdown",
   "source": "# Missing Values",
   "id": "ef1292ae85b380e7"
  },
  {
   "metadata": {
    "ExecuteTime": {
     "end_time": "2025-09-14T15:59:29.595296Z",
     "start_time": "2025-09-14T15:59:29.504119Z"
    }
   },
   "cell_type": "code",
   "source": "train_data.null_count()",
   "id": "1ecfb0d0e181c2fc",
   "outputs": [
    {
     "data": {
      "text/plain": [
       "shape: (1, 10)\n",
       "┌────────────┬────────────┬───────────┬───────────┬───┬───────────┬───────────┬────────┬───────────┐\n",
       "│ RhythmScor ┆ AudioLoudn ┆ VocalCont ┆ AcousticQ ┆ … ┆ MoodScore ┆ TrackDura ┆ Energy ┆ BeatsPerM │\n",
       "│ e          ┆ ess        ┆ ent       ┆ uality    ┆   ┆ ---       ┆ tionMs    ┆ ---    ┆ inute     │\n",
       "│ ---        ┆ ---        ┆ ---       ┆ ---       ┆   ┆ u32       ┆ ---       ┆ u32    ┆ ---       │\n",
       "│ u32        ┆ u32        ┆ u32       ┆ u32       ┆   ┆           ┆ u32       ┆        ┆ u32       │\n",
       "╞════════════╪════════════╪═══════════╪═══════════╪═══╪═══════════╪═══════════╪════════╪═══════════╡\n",
       "│ 0          ┆ 0          ┆ 0         ┆ 0         ┆ … ┆ 0         ┆ 0         ┆ 0      ┆ 0         │\n",
       "└────────────┴────────────┴───────────┴───────────┴───┴───────────┴───────────┴────────┴───────────┘"
      ],
      "text/html": [
       "<div><style>\n",
       ".dataframe > thead > tr,\n",
       ".dataframe > tbody > tr {\n",
       "  text-align: right;\n",
       "  white-space: pre-wrap;\n",
       "}\n",
       "</style>\n",
       "<small>shape: (1, 10)</small><table border=\"1\" class=\"dataframe\"><thead><tr><th>RhythmScore</th><th>AudioLoudness</th><th>VocalContent</th><th>AcousticQuality</th><th>InstrumentalScore</th><th>LivePerformanceLikelihood</th><th>MoodScore</th><th>TrackDurationMs</th><th>Energy</th><th>BeatsPerMinute</th></tr><tr><td>u32</td><td>u32</td><td>u32</td><td>u32</td><td>u32</td><td>u32</td><td>u32</td><td>u32</td><td>u32</td><td>u32</td></tr></thead><tbody><tr><td>0</td><td>0</td><td>0</td><td>0</td><td>0</td><td>0</td><td>0</td><td>0</td><td>0</td><td>0</td></tr></tbody></table></div>"
      ]
     },
     "execution_count": 9,
     "metadata": {},
     "output_type": "execute_result"
    }
   ],
   "execution_count": 9
  },
  {
   "metadata": {},
   "cell_type": "code",
   "outputs": [],
   "execution_count": null,
   "source": "",
   "id": "18811a2a821f8338"
  }
 ],
 "metadata": {
  "kernelspec": {
   "display_name": "Python 3",
   "language": "python",
   "name": "python3"
  },
  "language_info": {
   "codemirror_mode": {
    "name": "ipython",
    "version": 2
   },
   "file_extension": ".py",
   "mimetype": "text/x-python",
   "name": "python",
   "nbconvert_exporter": "python",
   "pygments_lexer": "ipython2",
   "version": "2.7.6"
  }
 },
 "nbformat": 4,
 "nbformat_minor": 5
}
