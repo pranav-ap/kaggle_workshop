{
 "cells": [
  {
   "cell_type": "code",
   "id": "initial_id",
   "metadata": {
    "collapsed": true,
    "ExecuteTime": {
     "end_time": "2025-09-06T09:20:42.772580Z",
     "start_time": "2025-09-06T09:20:42.565622Z"
    }
   },
   "source": [
    "%load_ext autoreload\n",
    "%autoreload 2"
   ],
   "outputs": [],
   "execution_count": 1
  },
  {
   "metadata": {},
   "cell_type": "markdown",
   "source": "# Bank Term Deposit Subscription Prediction",
   "id": "e725e1bd1f835d9b"
  },
  {
   "metadata": {
    "ExecuteTime": {
     "end_time": "2025-09-06T09:55:53.897525Z",
     "start_time": "2025-09-06T09:55:53.843168Z"
    }
   },
   "cell_type": "code",
   "source": [
    "import numpy as np\n",
    "import polars as pl\n",
    "\n",
    "# visualization\n",
    "import matplotlib as mpl\n",
    "import matplotlib.pyplot as plt\n",
    "plt.style.use('seaborn-v0_8-whitegrid')\n",
    "%matplotlib inline\n",
    "import seaborn as sns\n",
    "sns.set_theme(style=\"darkgrid\")\n",
    "\n",
    "import warnings\n",
    "warnings.filterwarnings('ignore')"
   ],
   "id": "4f636664b262a56e",
   "outputs": [],
   "execution_count": 10
  },
  {
   "metadata": {},
   "cell_type": "markdown",
   "source": "# Load Train Dataset",
   "id": "e1c29d0e03b67d"
  },
  {
   "metadata": {
    "ExecuteTime": {
     "end_time": "2025-09-06T09:55:55.403954Z",
     "start_time": "2025-09-06T09:55:55.264218Z"
    }
   },
   "cell_type": "code",
   "source": [
    "train_data = pl.read_csv('../../data/playground-series-s5e8/train.csv')\n",
    "train_data.head(2)"
   ],
   "id": "9fee032f52abae85",
   "outputs": [
    {
     "data": {
      "text/plain": [
       "shape: (2, 18)\n",
       "┌─────┬─────┬─────────────┬─────────┬───┬───────┬──────────┬──────────┬─────┐\n",
       "│ id  ┆ age ┆ job         ┆ marital ┆ … ┆ pdays ┆ previous ┆ poutcome ┆ y   │\n",
       "│ --- ┆ --- ┆ ---         ┆ ---     ┆   ┆ ---   ┆ ---      ┆ ---      ┆ --- │\n",
       "│ i64 ┆ i64 ┆ str         ┆ str     ┆   ┆ i64   ┆ i64      ┆ str      ┆ i64 │\n",
       "╞═════╪═════╪═════════════╪═════════╪═══╪═══════╪══════════╪══════════╪═════╡\n",
       "│ 0   ┆ 42  ┆ technician  ┆ married ┆ … ┆ -1    ┆ 0        ┆ unknown  ┆ 0   │\n",
       "│ 1   ┆ 38  ┆ blue-collar ┆ married ┆ … ┆ -1    ┆ 0        ┆ unknown  ┆ 0   │\n",
       "└─────┴─────┴─────────────┴─────────┴───┴───────┴──────────┴──────────┴─────┘"
      ],
      "text/html": [
       "<div><style>\n",
       ".dataframe > thead > tr,\n",
       ".dataframe > tbody > tr {\n",
       "  text-align: right;\n",
       "  white-space: pre-wrap;\n",
       "}\n",
       "</style>\n",
       "<small>shape: (2, 18)</small><table border=\"1\" class=\"dataframe\"><thead><tr><th>id</th><th>age</th><th>job</th><th>marital</th><th>education</th><th>default</th><th>balance</th><th>housing</th><th>loan</th><th>contact</th><th>day</th><th>month</th><th>duration</th><th>campaign</th><th>pdays</th><th>previous</th><th>poutcome</th><th>y</th></tr><tr><td>i64</td><td>i64</td><td>str</td><td>str</td><td>str</td><td>str</td><td>i64</td><td>str</td><td>str</td><td>str</td><td>i64</td><td>str</td><td>i64</td><td>i64</td><td>i64</td><td>i64</td><td>str</td><td>i64</td></tr></thead><tbody><tr><td>0</td><td>42</td><td>&quot;technician&quot;</td><td>&quot;married&quot;</td><td>&quot;secondary&quot;</td><td>&quot;no&quot;</td><td>7</td><td>&quot;no&quot;</td><td>&quot;no&quot;</td><td>&quot;cellular&quot;</td><td>25</td><td>&quot;aug&quot;</td><td>117</td><td>3</td><td>-1</td><td>0</td><td>&quot;unknown&quot;</td><td>0</td></tr><tr><td>1</td><td>38</td><td>&quot;blue-collar&quot;</td><td>&quot;married&quot;</td><td>&quot;secondary&quot;</td><td>&quot;no&quot;</td><td>514</td><td>&quot;no&quot;</td><td>&quot;no&quot;</td><td>&quot;unknown&quot;</td><td>18</td><td>&quot;jun&quot;</td><td>185</td><td>1</td><td>-1</td><td>0</td><td>&quot;unknown&quot;</td><td>0</td></tr></tbody></table></div>"
      ]
     },
     "execution_count": 11,
     "metadata": {},
     "output_type": "execute_result"
    }
   ],
   "execution_count": 11
  },
  {
   "metadata": {},
   "cell_type": "markdown",
   "source": "# Inspect",
   "id": "4552384387a0182d"
  },
  {
   "metadata": {
    "ExecuteTime": {
     "end_time": "2025-09-06T09:55:56.734595Z",
     "start_time": "2025-09-06T09:55:56.689152Z"
    }
   },
   "cell_type": "code",
   "source": "train_data.shape",
   "id": "dee83c4308e34a05",
   "outputs": [
    {
     "data": {
      "text/plain": [
       "(750000, 18)"
      ]
     },
     "execution_count": 12,
     "metadata": {},
     "output_type": "execute_result"
    }
   ],
   "execution_count": 12
  },
  {
   "metadata": {
    "ExecuteTime": {
     "end_time": "2025-09-06T10:00:30.902059Z",
     "start_time": "2025-09-06T10:00:30.854016Z"
    }
   },
   "cell_type": "code",
   "source": "train_data.glimpse(max_items_per_column=2)",
   "id": "c72c30fff9b1c22",
   "outputs": [
    {
     "name": "stdout",
     "output_type": "stream",
     "text": [
      "Rows: 750000\n",
      "Columns: 18\n",
      "$ id        <i64> 0, 1\n",
      "$ age       <i64> 42, 38\n",
      "$ job       <str> 'technician', 'blue-collar'\n",
      "$ marital   <str> 'married', 'married'\n",
      "$ education <str> 'secondary', 'secondary'\n",
      "$ default   <str> 'no', 'no'\n",
      "$ balance   <i64> 7, 514\n",
      "$ housing   <str> 'no', 'no'\n",
      "$ loan      <str> 'no', 'no'\n",
      "$ contact   <str> 'cellular', 'unknown'\n",
      "$ day       <i64> 25, 18\n",
      "$ month     <str> 'aug', 'jun'\n",
      "$ duration  <i64> 117, 185\n",
      "$ campaign  <i64> 3, 1\n",
      "$ pdays     <i64> -1, -1\n",
      "$ previous  <i64> 0, 0\n",
      "$ poutcome  <str> 'unknown', 'unknown'\n",
      "$ y         <i64> 0, 0\n",
      "\n"
     ]
    }
   ],
   "execution_count": 15
  },
  {
   "metadata": {
    "ExecuteTime": {
     "end_time": "2025-09-06T10:01:52.930584Z",
     "start_time": "2025-09-06T10:01:52.882716Z"
    }
   },
   "cell_type": "code",
   "source": "train_data.schema",
   "id": "78993c1f0753c863",
   "outputs": [
    {
     "data": {
      "text/plain": [
       "Schema([('id', Int64),\n",
       "        ('age', Int64),\n",
       "        ('job', String),\n",
       "        ('marital', String),\n",
       "        ('education', String),\n",
       "        ('default', String),\n",
       "        ('balance', Int64),\n",
       "        ('housing', String),\n",
       "        ('loan', String),\n",
       "        ('contact', String),\n",
       "        ('day', Int64),\n",
       "        ('month', String),\n",
       "        ('duration', Int64),\n",
       "        ('campaign', Int64),\n",
       "        ('pdays', Int64),\n",
       "        ('previous', Int64),\n",
       "        ('poutcome', String),\n",
       "        ('y', Int64)])"
      ]
     },
     "execution_count": 18,
     "metadata": {},
     "output_type": "execute_result"
    }
   ],
   "execution_count": 18
  },
  {
   "metadata": {},
   "cell_type": "markdown",
   "source": "# Target Distribution",
   "id": "76336f3d99e9603f"
  },
  {
   "metadata": {
    "ExecuteTime": {
     "end_time": "2025-09-06T09:48:33.407995Z",
     "start_time": "2025-09-06T09:48:20.101889Z"
    }
   },
   "cell_type": "code",
   "source": "sns.countplot(data=train_data, x='y', palette = 'Blues_r')",
   "id": "5ef6e93571e4f112",
   "outputs": [
    {
     "data": {
      "text/plain": [
       "<Axes: xlabel='y', ylabel='count'>"
      ]
     },
     "execution_count": 8,
     "metadata": {},
     "output_type": "execute_result"
    },
    {
     "data": {
      "text/plain": [
       "<Figure size 640x480 with 1 Axes>"
      ],
      "image/png": "[encoded data removed]"
     },
     "metadata": {},
     "output_type": "display_data",
     "jetTransient": {
      "display_id": null
     }
    }
   ],
   "execution_count": 8
  },
  {
   "metadata": {},
   "cell_type": "markdown",
   "source": "# Drop Unnecessary Columns",
   "id": "e727418c5e3832ea"
  },
  {
   "metadata": {
    "ExecuteTime": {
     "end_time": "2025-09-06T10:07:10.935779Z",
     "start_time": "2025-09-06T10:07:10.878380Z"
    }
   },
   "cell_type": "code",
   "source": [
    "columns_to_drop = ['id', 'day', 'month', 'contact']\n",
    "\n",
    "train_data = train_data.drop(columns_to_drop)\n",
    "train_data.glimpse(max_items_per_column=2)"
   ],
   "id": "a6b5aa6e98ffbea",
   "outputs": [
    {
     "name": "stdout",
     "output_type": "stream",
     "text": [
      "Rows: 750000\n",
      "Columns: 14\n",
      "$ age       <i64> 42, 38\n",
      "$ job       <str> 'technician', 'blue-collar'\n",
      "$ marital   <str> 'married', 'married'\n",
      "$ education <str> 'secondary', 'secondary'\n",
      "$ default   <str> 'no', 'no'\n",
      "$ balance   <i64> 7, 514\n",
      "$ housing   <str> 'no', 'no'\n",
      "$ loan      <str> 'no', 'no'\n",
      "$ duration  <i64> 117, 185\n",
      "$ campaign  <i64> 3, 1\n",
      "$ pdays     <i64> -1, -1\n",
      "$ previous  <i64> 0, 0\n",
      "$ poutcome  <str> 'unknown', 'unknown'\n",
      "$ y         <i64> 0, 0\n",
      "\n"
     ]
    }
   ],
   "execution_count": 20
  },
  {
   "metadata": {},
   "cell_type": "markdown",
   "source": "# Convert to Category",
   "id": "1926fb5b4ea6d92e"
  },
  {
   "metadata": {
    "ExecuteTime": {
     "end_time": "2025-09-06T10:11:23.988464Z",
     "start_time": "2025-09-06T10:11:23.912646Z"
    }
   },
   "cell_type": "code",
   "source": [
    "cat_cols = [\n",
    "    'job', 'marital', 'education', 'default', 'housing', 'loan', 'poutcome', 'y'\n",
    "]\n",
    "\n",
    "train_data = train_data.with_columns([\n",
    "    pl.col(c).cast(pl.Categorical) for c in cat_cols\n",
    "])\n",
    "\n",
    "train_data.glimpse(max_items_per_column=2)"
   ],
   "id": "abf97eeeaaf8a439",
   "outputs": [
    {
     "name": "stdout",
     "output_type": "stream",
     "text": [
      "Rows: 750000\n",
      "Columns: 14\n",
      "$ age       <i64> 42, 38\n",
      "$ job       <cat> technician, blue-collar\n",
      "$ marital   <cat> married, married\n",
      "$ education <cat> secondary, secondary\n",
      "$ default   <cat> no, no\n",
      "$ balance   <i64> 7, 514\n",
      "$ housing   <cat> no, no\n",
      "$ loan      <cat> no, no\n",
      "$ duration  <i64> 117, 185\n",
      "$ campaign  <i64> 3, 1\n",
      "$ pdays     <i64> -1, -1\n",
      "$ previous  <i64> 0, 0\n",
      "$ poutcome  <cat> unknown, unknown\n",
      "$ y         <cat> technician, technician\n",
      "\n"
     ]
    }
   ],
   "execution_count": 22
  },
  {
   "metadata": {
    "ExecuteTime": {
     "end_time": "2025-09-06T10:26:44.115886Z",
     "start_time": "2025-09-06T10:26:44.057418Z"
    }
   },
   "cell_type": "code",
   "source": "train_data.head(2)",
   "id": "f997ae132e65732a",
   "outputs": [
    {
     "data": {
      "text/plain": [
       "shape: (2, 14)\n",
       "┌─────┬─────────────┬─────────┬───────────┬───┬───────┬──────────┬──────────┬────────────┐\n",
       "│ age ┆ job         ┆ marital ┆ education ┆ … ┆ pdays ┆ previous ┆ poutcome ┆ y          │\n",
       "│ --- ┆ ---         ┆ ---     ┆ ---       ┆   ┆ ---   ┆ ---      ┆ ---      ┆ ---        │\n",
       "│ i64 ┆ cat         ┆ cat     ┆ cat       ┆   ┆ i64   ┆ i64      ┆ cat      ┆ cat        │\n",
       "╞═════╪═════════════╪═════════╪═══════════╪═══╪═══════╪══════════╪══════════╪════════════╡\n",
       "│ 42  ┆ technician  ┆ married ┆ secondary ┆ … ┆ -1    ┆ 0        ┆ unknown  ┆ technician │\n",
       "│ 38  ┆ blue-collar ┆ married ┆ secondary ┆ … ┆ -1    ┆ 0        ┆ unknown  ┆ technician │\n",
       "└─────┴─────────────┴─────────┴───────────┴───┴───────┴──────────┴──────────┴────────────┘"
      ],
      "text/html": [
       "<div><style>\n",
       ".dataframe > thead > tr,\n",
       ".dataframe > tbody > tr {\n",
       "  text-align: right;\n",
       "  white-space: pre-wrap;\n",
       "}\n",
       "</style>\n",
       "<small>shape: (2, 14)</small><table border=\"1\" class=\"dataframe\"><thead><tr><th>age</th><th>job</th><th>marital</th><th>education</th><th>default</th><th>balance</th><th>housing</th><th>loan</th><th>duration</th><th>campaign</th><th>pdays</th><th>previous</th><th>poutcome</th><th>y</th></tr><tr><td>i64</td><td>cat</td><td>cat</td><td>cat</td><td>cat</td><td>i64</td><td>cat</td><td>cat</td><td>i64</td><td>i64</td><td>i64</td><td>i64</td><td>cat</td><td>cat</td></tr></thead><tbody><tr><td>42</td><td>&quot;technician&quot;</td><td>&quot;married&quot;</td><td>&quot;secondary&quot;</td><td>&quot;no&quot;</td><td>7</td><td>&quot;no&quot;</td><td>&quot;no&quot;</td><td>117</td><td>3</td><td>-1</td><td>0</td><td>&quot;unknown&quot;</td><td>&quot;technician&quot;</td></tr><tr><td>38</td><td>&quot;blue-collar&quot;</td><td>&quot;married&quot;</td><td>&quot;secondary&quot;</td><td>&quot;no&quot;</td><td>514</td><td>&quot;no&quot;</td><td>&quot;no&quot;</td><td>185</td><td>1</td><td>-1</td><td>0</td><td>&quot;unknown&quot;</td><td>&quot;technician&quot;</td></tr></tbody></table></div>"
      ]
     },
     "execution_count": 31,
     "metadata": {},
     "output_type": "execute_result"
    }
   ],
   "execution_count": 31
  },
  {
   "metadata": {},
   "cell_type": "markdown",
   "source": "# Missing Values",
   "id": "5a3241315dee95bf"
  },
  {
   "metadata": {
    "ExecuteTime": {
     "end_time": "2025-09-06T10:20:37.631385Z",
     "start_time": "2025-09-06T10:20:37.577219Z"
    }
   },
   "cell_type": "code",
   "source": "train_data.null_count()",
   "id": "82b1fd839765eee0",
   "outputs": [
    {
     "data": {
      "text/plain": [
       "shape: (1, 14)\n",
       "┌─────┬─────┬─────────┬───────────┬───┬───────┬──────────┬──────────┬─────┐\n",
       "│ age ┆ job ┆ marital ┆ education ┆ … ┆ pdays ┆ previous ┆ poutcome ┆ y   │\n",
       "│ --- ┆ --- ┆ ---     ┆ ---       ┆   ┆ ---   ┆ ---      ┆ ---      ┆ --- │\n",
       "│ u32 ┆ u32 ┆ u32     ┆ u32       ┆   ┆ u32   ┆ u32      ┆ u32      ┆ u32 │\n",
       "╞═════╪═════╪═════════╪═══════════╪═══╪═══════╪══════════╪══════════╪═════╡\n",
       "│ 0   ┆ 0   ┆ 0       ┆ 0         ┆ … ┆ 0     ┆ 0        ┆ 0        ┆ 0   │\n",
       "└─────┴─────┴─────────┴───────────┴───┴───────┴──────────┴──────────┴─────┘"
      ],
      "text/html": [
       "<div><style>\n",
       ".dataframe > thead > tr,\n",
       ".dataframe > tbody > tr {\n",
       "  text-align: right;\n",
       "  white-space: pre-wrap;\n",
       "}\n",
       "</style>\n",
       "<small>shape: (1, 14)</small><table border=\"1\" class=\"dataframe\"><thead><tr><th>age</th><th>job</th><th>marital</th><th>education</th><th>default</th><th>balance</th><th>housing</th><th>loan</th><th>duration</th><th>campaign</th><th>pdays</th><th>previous</th><th>poutcome</th><th>y</th></tr><tr><td>u32</td><td>u32</td><td>u32</td><td>u32</td><td>u32</td><td>u32</td><td>u32</td><td>u32</td><td>u32</td><td>u32</td><td>u32</td><td>u32</td><td>u32</td><td>u32</td></tr></thead><tbody><tr><td>0</td><td>0</td><td>0</td><td>0</td><td>0</td><td>0</td><td>0</td><td>0</td><td>0</td><td>0</td><td>0</td><td>0</td><td>0</td><td>0</td></tr></tbody></table></div>"
      ]
     },
     "execution_count": 28,
     "metadata": {},
     "output_type": "execute_result"
    }
   ],
   "execution_count": 28
  },
  {
   "metadata": {
    "ExecuteTime": {
     "end_time": "2025-09-06T12:04:51.556499Z",
     "start_time": "2025-09-06T12:04:51.499659Z"
    }
   },
   "cell_type": "code",
   "source": "train_data.width",
   "id": "c8cefff6148fbfe2",
   "outputs": [
    {
     "data": {
      "text/plain": [
       "14"
      ]
     },
     "execution_count": 36,
     "metadata": {},
     "output_type": "execute_result"
    }
   ],
   "execution_count": 36
  },
  {
   "metadata": {},
   "cell_type": "code",
   "outputs": [],
   "execution_count": null,
   "source": "",
   "id": "74218e79722a5573"
  }
 ],
 "metadata": {
  "kernelspec": {
   "display_name": "Python 3",
   "language": "python",
   "name": "python3"
  },
  "language_info": {
   "codemirror_mode": {
    "name": "ipython",
    "version": 2
   },
   "file_extension": ".py",
   "mimetype": "text/x-python",
   "name": "python",
   "nbconvert_exporter": "python",
   "pygments_lexer": "ipython2",
   "version": "2.7.6"
  }
 },
 "nbformat": 4,
 "nbformat_minor": 5
}
